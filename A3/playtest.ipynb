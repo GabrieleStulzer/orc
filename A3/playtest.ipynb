{
 "cells": [
  {
   "cell_type": "code",
   "execution_count": 1,
   "metadata": {},
   "outputs": [],
   "source": [
    "import numpy as np\n",
    "import csv\n",
    "import casadi\n",
    "from multiprocessing import Pool"
   ]
  },
  {
   "cell_type": "code",
   "execution_count": 6,
   "metadata": {},
   "outputs": [],
   "source": [
    "def running_cost(x):\n",
    "    return (x-1.9)*(x-1.0)*(x-0.6)*(x+0.5)*(x+1.2)*(x+2.1)"
   ]
  },
  {
   "cell_type": "code",
   "execution_count": 2,
   "metadata": {},
   "outputs": [],
   "source": [
    "class OcpSingleIntegrator:\n",
    "\n",
    "    def __init__(self, dt, w_u, u_min=None, u_max=None):\n",
    "        self.dt = dt\n",
    "        self.w_u = w_u\n",
    "        self.u_min = u_min\n",
    "        self.u_max = u_max\n",
    "\n",
    "    def solve(self, x_init, N, X_guess=None, U_guess=None):\n",
    "        self.opti = casadi.Opti()\n",
    "        self.x = self.opti.variable(N+1)\n",
    "        self.u = self.opti.variable(N)\n",
    "        x = self.x\n",
    "        u = self.u\n",
    "\n",
    "        if(X_guess is not None):\n",
    "            for i in range(N+1):\n",
    "                self.opti.set_initial(x[i], X_guess[i,:])\n",
    "        else:\n",
    "            for i in range(N+1):\n",
    "                self.opti.set_initial(x[i], x_init)\n",
    "        if(U_guess is not None):\n",
    "            for i in range(N):\n",
    "                self.opti.set_initial(u[i], U_guess[i,:])\n",
    "\n",
    "        self.cost = 0\n",
    "        self.running_costs = [None,]*(N+1)\n",
    "        for i in range(N+1):\n",
    "            self.running_costs[i] = running_cost(x[i]) \n",
    "            if(i<N):\n",
    "                self.running_costs[i] += self.w_u * u[i]*u[i]\n",
    "            self.cost += self.running_costs[i]\n",
    "        self.opti.minimize(self.cost)\n",
    "\n",
    "        for i in range(N):\n",
    "            self.opti.subject_to( x[i+1]==x[i] + self.dt*u[i] )\n",
    "        if(self.u_min is not None and self.u_max is not None):\n",
    "            for i in range(N):\n",
    "                self.opti.subject_to( self.opti.bounded(self.u_min, u[i], self.u_max) )\n",
    "        self.opti.subject_to(x[0]==x_init)\n",
    "\n",
    "        # s_opts = {\"max_iter\": 100}\n",
    "        opts = {'ipopt.print_level': 0, 'print_time': 0, 'ipopt.sb': 'yes'}\n",
    "        self.opti.solver(\"ipopt\", opts) #, s_opts)\n",
    "\n",
    "        return self.opti.solve()"
   ]
  },
  {
   "cell_type": "code",
   "execution_count": 3,
   "metadata": {},
   "outputs": [],
   "source": [
    "class Parameters:\n",
    "    def __init__(self, index, N, dt, x_init, w_u, u_min, u_max):\n",
    "        self.index = index\n",
    "        self.N = N\n",
    "        self.dt = dt\n",
    "        self.w_u = w_u\n",
    "        self.u_min = u_min\n",
    "        self.u_max = u_max\n",
    "        self.x_init = x_init\n",
    "    \n",
    "    def setXInit(self, x_init):\n",
    "        self.x_init = x_init\n",
    "\n",
    "    def __str__(self) -> str:\n",
    "        return f\"Index = {self.index} - Parameters(N={self.N}, dt={self.dt}, x_init={self.x_init}, w_u={self.w_u}, u_min={self.u_min}, u_max={self.u_max})\""
   ]
  },
  {
   "cell_type": "code",
   "execution_count": 4,
   "metadata": {},
   "outputs": [],
   "source": [
    "def solveOneProblem(parameters: Parameters):\n",
    "    # print(f\"Solving problem with parameters: {parameters}\")\n",
    "    ocp = OcpSingleIntegrator(parameters.dt, parameters.w_u, parameters.u_min, parameters.u_max)\n",
    "    sol = ocp.solve(parameters.x_init, parameters.N)\n",
    "    print(f\"==== {parameters.index} solved\\n\")\n",
    "    return (parameters.x_init, sol.value(ocp.cost))"
   ]
  },
  {
   "cell_type": "code",
   "execution_count": 64,
   "metadata": {},
   "outputs": [
    {
     "data": {
      "image/png": "[encoded data removed]",
      "text/plain": [
       "<Figure size 640x480 with 1 Axes>"
      ]
     },
     "metadata": {},
     "output_type": "display_data"
    },
    {
     "name": "stdout",
     "output_type": "stream",
     "text": [
      "Sol:  Opti {\n",
      "  instance #58\n",
      "  #variables: 2 (nx = 101)\n",
      "  #parameters: 0 (np = 0)\n",
      "  #constraints: 101 (ng = 101)\n",
      "  CasADi solver allocated.\n",
      "  CasADi solver was called: Solve_Succeeded\n",
      "}\n",
      "Optimal value of u:\n",
      " [-3.00000002e+00 -3.00000002e+00 -3.00000002e+00 -3.00000002e+00\n",
      " -3.00000002e+00 -3.00000002e+00 -3.00000001e+00 -3.00000001e+00\n",
      " -3.00000000e+00 -2.99999999e+00 -2.99999997e+00 -2.99999991e+00\n",
      " -2.99999943e+00 -2.51944351e+00 -1.96867073e+00 -1.53567103e+00\n",
      " -1.19651635e+00 -9.31518510e-01 -7.24805281e-01 -5.63740008e-01\n",
      " -4.38341325e-01 -3.40765559e-01 -2.64869809e-01 -2.05854189e-01\n",
      " -1.59974128e-01 -1.24311578e-01 -9.65943603e-02 -7.50542207e-02\n",
      " -5.83156362e-02 -4.53089160e-02 -3.52023909e-02 -2.73495584e-02\n",
      " -2.12479176e-02 -1.65069278e-02 -1.28230788e-02 -9.96050190e-03\n",
      " -7.73589123e-03 -6.00678058e-03 -4.66242838e-03 -3.61673042e-03\n",
      " -2.80270818e-03 -2.16822061e-03 -1.67262548e-03 -1.28417673e-03\n",
      " -9.77991336e-04 -7.34455599e-04 -5.37968915e-04 -3.75944489e-04\n",
      " -2.38003093e-04 -1.15308213e-04]\n",
      "Optimal cost:  -63.8150708160837\n"
     ]
    }
   ],
   "source": [
    "import matplotlib.pyplot as plt\n",
    "N = 50          # horizon size\n",
    "dt = 0.01        # time step\n",
    "x_init = -1.0   # initial state\n",
    "w_u = 1e-2\n",
    "u_min = -3      # min control input\n",
    "u_max = 3      # max control input\n",
    "PLOT = True\n",
    "SAMPLES = 2\n",
    "\n",
    "ocp = OcpSingleIntegrator(dt, w_u, u_min, u_max)\n",
    "sol = ocp.solve(np.random.uniform(-2.2, 2.0), N)\n",
    "# print(\"Optimal value of x:\\n\", sol.value(ocp.x))\n",
    "\n",
    "X = np.linspace(-2.2, 2.0, 100)\n",
    "costs = [sol.value(ocp.running_costs[0], [ocp.x==x_val]) for x_val in X]\n",
    "cost = 0\n",
    "plt.plot(X, costs)\n",
    "for i in range(N+1):\n",
    "    cost += sol.value(ocp.running_costs[i])\n",
    "    plt.plot(sol.value(ocp.x[i]), sol.value(ocp.running_costs[i]), \n",
    "            'xr', label='x_'+str(i))\n",
    "plt.show()\n",
    "print(\"Sol: \", sol)\n",
    "print(\"Optimal value of u:\\n\", sol.value(ocp.u))\n",
    "print(\"Optimal cost: \", sol.value(ocp.cost))\n",
    "\n",
    "# params = [Parameters(i, N, dt, np.random.uniform(-2.2, 2.0), w_u, u_min, u_max) for i in range(SAMPLES)]\n",
    "\n",
    "# sol = solveOneProblem(params[0])\n",
    "# print(sol)\n",
    "\n",
    "# # Plot running cost function\n",
    "# if(PLOT):\n",
    "#     x = np.linspace(-2, 2, 100)\n",
    "#     y = running_cost(x)\n",
    "#     plt.plot(x, y)\n",
    "#     plt.plot(sol[0], running_cost(sol[0]), 'ro')\n",
    "#     plt.show()\n"
   ]
  }
 ],
 "metadata": {
  "kernelspec": {
   "display_name": "base",
   "language": "python",
   "name": "python3"
  },
  "language_info": {
   "codemirror_mode": {
    "name": "ipython",
    "version": 3
   },
   "file_extension": ".py",
   "mimetype": "text/x-python",
   "name": "python",
   "nbconvert_exporter": "python",
   "pygments_lexer": "ipython3",
   "version": "3.11.4"
  }
 },
 "nbformat": 4,
 "nbformat_minor": 2
}
